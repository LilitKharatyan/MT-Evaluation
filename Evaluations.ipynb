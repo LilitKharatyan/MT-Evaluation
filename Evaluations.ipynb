{
  "nbformat": 4,
  "nbformat_minor": 0,
  "metadata": {
    "colab": {
      "provenance": []
    },
    "kernelspec": {
      "name": "python3",
      "display_name": "Python 3"
    },
    "language_info": {
      "name": "python"
    }
  },
  "cells": [
    {
      "cell_type": "code",
      "source": [
        "!pip install sacrebleu\n",
        "import sacrebleu\n",
        "from sacrebleu import corpus_bleu"
      ],
      "metadata": {
        "id": "u5RUZQPX3-JY"
      },
      "execution_count": null,
      "outputs": []
    },
    {
      "cell_type": "markdown",
      "source": [
        "**Evaluation of Google Translator results with SacreBLEU metric**"
      ],
      "metadata": {
        "id": "2Xo_en9O2dcD"
      }
    },
    {
      "cell_type": "code",
      "source": [
        "google_candidates = [\"A book gnawer\", \"Upper field wheat\", \"Grandfather's price\", \"A hole professor\", \"Nose hair\", \"Good fruit\", \"Oil the head\", \"Fight nest\", \"Remove the taste\", \"In seventh heaven\", \"Donkey knows what an almond is\", \"Chicks count in the fall\", \"The red cow will never change its skin\", \"To read the gospel on the wolf's head\", \"Cast pearls before swine\", \"A dead spring will come\", \"To be afraid of the Marmand River\", \"Go dead, come love\", \"What water brings, water will take away\", \"Like finds like\", \"One mind is good, two is more\", \"Better late than never\", \"Look through the fingers\", \"The dog does not know the owner\", \"Don't get old\", \"May it snow on your mind\", \"Sleeping on a donkey's ear\", \"Heat a snake in the bay\", \"To pluck the forehead of a donkey from the herd\", \"Cut the thread of thought\"]\n",
        "references = [[\"Bookworm\", \"To be cat's meow\", \"Skyrocketing price\", \"All hat and no cattle.\", \"A nitpicker\", \"A wolf in sheep's clothing.\", \"Play mind games\", \"Apples of discord\", \"To be a loose cannon\", \"In seventh heaven\", \"Not knowing the value of a good thing\", \"Don't count your chickens before they hatch\", \"A leopard cannot change its spots\", \"Preaching to deaf ears\", \"Cast pearls before swine\", \"Waiting for a pie in the sky\", \"Still waters run deep\", \"Fame after death\", \"Easy come, easy go\", \"Birds of a feather flock together\", \"Two heads are better than one\", \"Better late than never\", \"Going through the motions \", \"Turned upside down\", \"A long and happy marriage\", \"You have pulled a boner\", \"Moving at a snail's pace\", \"To nourish a viper in one's bosom\", \"Back the wrong horse\", \"Lose one's train of thought\"]]\n",
        "\n",
        "results = corpus_bleu(google_candidates, references, tokenize='char')\n",
        "print(\"BLEU score:\", round(results.score, 1))\n",
        "print(\"BLEU counts: \", results.counts)\n",
        "print(\"BLEU totals: \", results.totals)\n",
        "print(\"BLEU precisions: \", results.precisions)\n",
        "print(\"BLEU brevity penalty: \", results.bp)\n",
        "print(\"System length: \", results.sys_len)\n",
        "print(\"Reference length: \", results.ref_len)\n"
      ],
      "metadata": {
        "colab": {
          "base_uri": "https://localhost:8080/"
        },
        "id": "-O-hf_vmx2V7",
        "outputId": "3d6f3273-8c2d-46a4-82f7-9dc84165df61"
      },
      "execution_count": 82,
      "outputs": [
        {
          "output_type": "stream",
          "name": "stdout",
          "text": [
            "BLEU score: 24.3\n",
            "BLEU counts:  [306, 140, 94, 74]\n",
            "BLEU totals:  [574, 544, 514, 484]\n",
            "BLEU precisions:  [53.31010452961672, 25.735294117647058, 18.28793774319066, 15.289256198347108]\n",
            "BLEU brevity penalty:  0.9759047945423922\n",
            "System length:  574\n",
            "Reference length:  588\n"
          ]
        }
      ]
    },
    {
      "cell_type": "markdown",
      "source": [
        "**`Evaluation of Systran results with SacreBLEU metric`**"
      ],
      "metadata": {
        "id": "F2F0x3Ot28FO"
      }
    },
    {
      "cell_type": "code",
      "source": [
        "systran_candidates = [\"Book rodent\", \"Upper art wheat\", \"Poppy price\", \"Professor\", \"Nose Hair\", \"Good fruit\", \"Head lubricate\", \"Battle nest\", \"Combine\", \"In the seventh heaven\", \"What does the donkey know about what the almond is\", \"The meals are counted in autumn\", \"A red cow will not change the leather\", \"Read the gospel at the head of the wolf\", \"Pearls before pigs\", \"Ash a satan spring will come\", \"Afraid of a Marmallow River\", \"Mari hele, sir liom\", \"They will take the water, the water\", \"Finds the same\", \"One mind is good, two is better\", \"Better Late Than Never\", \"Look through your fingers\", \"The dog does not recognize the owner\", \"Keep up with me\", \"Snowing smart comes\", \"Donkey sleep\", \"Bay snake to heat up\", \"Suck the battle from the forehead\", \"Cut the thread of the mind\"]\n",
        "references = [[\"Bookworm\", \"To be cat's meow\", \"Skyrocketing price\", \"All hat and no cattle.\", \"A nitpicker\", \"A wolf in sheep's clothing.\", \"Play mind games\", \"Apples of discord\", \"To be a loose cannon\", \"In seventh heaven\", \"Not knowing the value of a good thing\", \"Don't count your chickens before they hatch\", \"A leopard cannot change its spots\", \"Preaching to deaf ears\", \"Cast pearls before swine\", \"Waiting for a pie in the sky\", \"Still waters run deep\", \"Fame after death\", \"Easy come, easy go\", \"Birds of a feather flock together\", \"Two heads are better than one\", \"Better late than never\", \"Going through the motions \", \"Turned upside down\", \"A long and happy marriage\", \"You have pulled a boner\", \"Moving at a snail's pace\", \"To nourish a viper in one's bosom\", \"Back the wrong horse\", \"Lose one's train of thought\"]]\n",
        "\n",
        "results = corpus_bleu(systran_candidates, references, tokenize='char')\n",
        "print(\"BLEU score:\", round(results.score, 1))\n",
        "print(\"BLEU counts: \", results.counts)\n",
        "print(\"BLEU totals: \", results.totals)\n",
        "print(\"BLEU precisions: \", results.precisions)\n",
        "print(\"BLEU brevity penalty: \", results.bp)\n",
        "print(\"System length: \", results.sys_len)\n",
        "print(\"Reference length: \", results.ref_len)\n"
      ],
      "metadata": {
        "colab": {
          "base_uri": "https://localhost:8080/"
        },
        "id": "EoZImSSA3ExU",
        "outputId": "017e076d-c1a5-4a24-d5cb-1bcbacd15d2d"
      },
      "execution_count": 83,
      "outputs": [
        {
          "output_type": "stream",
          "name": "stdout",
          "text": [
            "BLEU score: 18.1\n",
            "BLEU counts:  [298, 107, 65, 44]\n",
            "BLEU totals:  [555, 525, 495, 465]\n",
            "BLEU precisions:  [53.693693693693696, 20.38095238095238, 13.131313131313131, 9.46236559139785]\n",
            "BLEU brevity penalty:  0.9422737331033875\n",
            "System length:  555\n",
            "Reference length:  588\n"
          ]
        }
      ]
    },
    {
      "cell_type": "markdown",
      "source": [
        "**Evaluation of Bing results with SacreBLEU metric**"
      ],
      "metadata": {
        "id": "H1bv_dXy4k-E"
      }
    },
    {
      "cell_type": "code",
      "source": [
        "bing_candidates = [\"Book breaker\", \"Upper field wheat\", \"Pope's wine\", \"Professor of Nazianzus\", \"Nose hair\", \"Good fruit\", \"Head oil\", \"Fighting nest\", \"Remove the taste\", \"In the seventh heaven\", \"What the dog knows about flax\", \"Chickens count in autumn\", \"Red cow will not change skin\", \"Reading the gospel on the wolf's head\", \"Throwing pearls in front of pigs\", \"A donkey will come to the spring of a dead\", \"Fear of the River Marmade\", \"Go dead, let me love\", \"Water and water\", \"Finding a similarity\", \"One intelligent is good, two are better\", \"Better than never\", \"Looking between fingers\", \"The dog doesn't know the owner\", \"Getting older in a pillow\", \"Snow to your mind\", \"Sleeping in the donkey's ear\", \"Heating a snake in the Gulf\", \"Crucifying the donkey's forehead\", \"Cutting the mind thread\"]\n",
        "references = [[\"Bookworm\", \"To be cat's meow\", \"Skyrocketing price\", \"All hat and no cattle.\", \"A nitpicker\", \"A wolf in sheep's clothing.\", \"Play mind games\", \"Apples of discord\", \"To be a loose cannon\", \"In seventh heaven\", \"Not knowing the value of a good thing\", \"Don't count your chickens before they hatch\", \"A leopard cannot change its spots\", \"Preaching to deaf ears\", \"Cast pearls before swine\", \"Waiting for a pie in the sky\", \"Still waters run deep\", \"Fame after death\", \"Easy come, easy go\", \"Birds of a feather flock together\", \"Two heads are better than one\", \"Better late than never\", \"Going through the motions \", \"Turned upside down\", \"A long and happy marriage\", \"You have pulled a boner\", \"Moving at a snail's pace\", \"To nourish a viper in one's bosom\", \"Back the wrong horse\", \"Lose one's train of thought\"]]\n",
        "\n",
        "results = corpus_bleu(bing_candidates, references, tokenize='char')\n",
        "print(\"BLEU score:\", round(results.score, 1))\n",
        "print(\"BLEU counts: \", results.counts)\n",
        "print(\"BLEU totals: \", results.totals)\n",
        "print(\"BLEU precisions: \", results.precisions)\n",
        "print(\"BLEU brevity penalty: \", results.bp)\n",
        "print(\"System length: \", results.sys_len)\n",
        "print(\"Reference length: \", results.ref_len)\n"
      ],
      "metadata": {
        "colab": {
          "base_uri": "https://localhost:8080/"
        },
        "id": "GbiDaNQN4eFv",
        "outputId": "ca1039ca-90e3-4f67-ecd0-376b4abe0334"
      },
      "execution_count": 84,
      "outputs": [
        {
          "output_type": "stream",
          "name": "stdout",
          "text": [
            "BLEU score: 18.5\n",
            "BLEU counts:  [312, 112, 65, 44]\n",
            "BLEU totals:  [575, 545, 515, 485]\n",
            "BLEU precisions:  [54.26086956521739, 20.55045871559633, 12.62135922330097, 9.072164948453608]\n",
            "BLEU brevity penalty:  0.9776449656606773\n",
            "System length:  575\n",
            "Reference length:  588\n"
          ]
        }
      ]
    }
  ]
}