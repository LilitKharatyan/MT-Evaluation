{
  "nbformat": 4,
  "nbformat_minor": 0,
  "metadata": {
    "colab": {
      "provenance": [],
      "toc_visible": true
    },
    "kernelspec": {
      "name": "python3",
      "display_name": "Python 3"
    },
    "language_info": {
      "name": "python"
    }
  },
  "cells": [
    {
      "cell_type": "code",
      "source": [
        "!pip install sacrebleu\n",
        "import sacrebleu\n",
        "from sacrebleu import corpus_bleu"
      ],
      "metadata": {
        "id": "u5RUZQPX3-JY"
      },
      "execution_count": null,
      "outputs": []
    },
    {
      "cell_type": "markdown",
      "source": [
        "**Evaluation of Google Translator results with SacreBLEU metric**"
      ],
      "metadata": {
        "id": "2Xo_en9O2dcD"
      }
    },
    {
      "cell_type": "code",
      "source": [
        "google_candidates = [\"A book gnawer\", \"Upper field wheat\", \"Grandfather's price\", \"A hole professor\", \"Nose hair\", \"Good fruit\", \"Oil the head\", \"Fight nest\", \"Remove the taste\", \"In seventh heaven\", \"Donkey knows what an almond is\", \"Chicks count in the fall\", \"The red cow will never change its skin\", \"To read the gospel on the wolf's head\", \"Cast pearls before swine\", \"A dead spring will come\", \"To be afraid of the Marmand River\", \"Go dead, come love\", \"What water brings, water will take away\", \"Like finds like\", \"One mind is good, two is more\", \"Better late than never\", \"Look through the fingers\", \"The dog does not know the owner\", \"Don't get old\", \"May it snow on your mind\", \"Sleeping on a donkey's ear\", \"Heat a snake in the bay\", \"To pluck the forehead of a donkey from the herd\", \"Cut the thread of thought\"]\n",
        "references = [[\"Bookworm\", \"To be cat's meow\", \"Skyrocketing price\", \"All hat and no cattle.\", \"A nitpicker\", \"A wolf in sheep's clothing.\", \"Play mind games\", \"Apples of discord\", \"To be a loose cannon\", \"In seventh heaven\", \"Not knowing the value of a good thing\", \"Don't count your chickens before they hatch\", \"A leopard cannot change its spots\", \"Preaching to deaf ears\", \"Cast pearls before swine\", \"Waiting for a pie in the sky\", \"Still waters run deep\", \"Fame after death\", \"Easy come, easy go\", \"Birds of a feather flock together\", \"Two heads are better than one\", \"Better late than never\", \"Going through the motions \", \"Turned upside down\", \"A long and happy marriage\", \"You have pulled a boner\", \"Moving at a snail's pace\", \"To nourish a viper in one's bosom\", \"Back the wrong horse\", \"Lose one's train of thought\"]]\n",
        "\n",
        "results = corpus_bleu(google_candidates, references, tokenize='char')\n",
        "print(\"BLEU score:\", round(results.score, 1))\n",
        "print(\"BLEU counts: \", results.counts)\n",
        "print(\"BLEU totals: \", results.totals)\n",
        "print(\"BLEU precisions: \", results.precisions)\n",
        "print(\"BLEU brevity penalty: \", results.bp)\n",
        "print(\"System length: \", results.sys_len)\n",
        "print(\"Reference length: \", results.ref_len)\n"
      ],
      "metadata": {
        "colab": {
          "base_uri": "https://localhost:8080/"
        },
        "id": "-O-hf_vmx2V7",
        "outputId": "3d6f3273-8c2d-46a4-82f7-9dc84165df61"
      },
      "execution_count": null,
      "outputs": [
        {
          "output_type": "stream",
          "name": "stdout",
          "text": [
            "BLEU score: 24.3\n",
            "BLEU counts:  [306, 140, 94, 74]\n",
            "BLEU totals:  [574, 544, 514, 484]\n",
            "BLEU precisions:  [53.31010452961672, 25.735294117647058, 18.28793774319066, 15.289256198347108]\n",
            "BLEU brevity penalty:  0.9759047945423922\n",
            "System length:  574\n",
            "Reference length:  588\n"
          ]
        }
      ]
    },
    {
      "cell_type": "markdown",
      "source": [
        "**`Evaluation of Systran results with SacreBLEU metric`**"
      ],
      "metadata": {
        "id": "F2F0x3Ot28FO"
      }
    },
    {
      "cell_type": "code",
      "source": [
        "systran_candidates = [\"Book rodent\", \"Upper art wheat\", \"Poppy price\", \"Professor\", \"Nose Hair\", \"Good fruit\", \"Head lubricate\", \"Battle nest\", \"Combine\", \"In the seventh heaven\", \"What does the donkey know about what the almond is\", \"The meals are counted in autumn\", \"A red cow will not change the leather\", \"Read the gospel at the head of the wolf\", \"Pearls before pigs\", \"Ash a satan spring will come\", \"Afraid of a Marmallow River\", \"Mari hele, sir liom\", \"They will take the water, the water\", \"Finds the same\", \"One mind is good, two is better\", \"Better Late Than Never\", \"Look through your fingers\", \"The dog does not recognize the owner\", \"Keep up with me\", \"Snowing smart comes\", \"Donkey sleep\", \"Bay snake to heat up\", \"Suck the battle from the forehead\", \"Cut the thread of the mind\"]\n",
        "references = [[\"Bookworm\", \"To be cat's meow\", \"Skyrocketing price\", \"All hat and no cattle.\", \"A nitpicker\", \"A wolf in sheep's clothing.\", \"Play mind games\", \"Apples of discord\", \"To be a loose cannon\", \"In seventh heaven\", \"Not knowing the value of a good thing\", \"Don't count your chickens before they hatch\", \"A leopard cannot change its spots\", \"Preaching to deaf ears\", \"Cast pearls before swine\", \"Waiting for a pie in the sky\", \"Still waters run deep\", \"Fame after death\", \"Easy come, easy go\", \"Birds of a feather flock together\", \"Two heads are better than one\", \"Better late than never\", \"Going through the motions \", \"Turned upside down\", \"A long and happy marriage\", \"You have pulled a boner\", \"Moving at a snail's pace\", \"To nourish a viper in one's bosom\", \"Back the wrong horse\", \"Lose one's train of thought\"]]\n",
        "\n",
        "results = corpus_bleu(systran_candidates, references, tokenize='char')\n",
        "print(\"BLEU score:\", round(results.score, 1))\n",
        "print(\"BLEU counts: \", results.counts)\n",
        "print(\"BLEU totals: \", results.totals)\n",
        "print(\"BLEU precisions: \", results.precisions)\n",
        "print(\"BLEU brevity penalty: \", results.bp)\n",
        "print(\"System length: \", results.sys_len)\n",
        "print(\"Reference length: \", results.ref_len)\n"
      ],
      "metadata": {
        "colab": {
          "base_uri": "https://localhost:8080/"
        },
        "id": "EoZImSSA3ExU",
        "outputId": "017e076d-c1a5-4a24-d5cb-1bcbacd15d2d"
      },
      "execution_count": null,
      "outputs": [
        {
          "output_type": "stream",
          "name": "stdout",
          "text": [
            "BLEU score: 18.1\n",
            "BLEU counts:  [298, 107, 65, 44]\n",
            "BLEU totals:  [555, 525, 495, 465]\n",
            "BLEU precisions:  [53.693693693693696, 20.38095238095238, 13.131313131313131, 9.46236559139785]\n",
            "BLEU brevity penalty:  0.9422737331033875\n",
            "System length:  555\n",
            "Reference length:  588\n"
          ]
        }
      ]
    },
    {
      "cell_type": "markdown",
      "source": [
        "**Evaluation of Bing results with SacreBLEU metric**"
      ],
      "metadata": {
        "id": "H1bv_dXy4k-E"
      }
    },
    {
      "cell_type": "code",
      "source": [
        "bing_candidates = [\"Book breaker\", \"Upper field wheat\", \"Pope's wine\", \"Professor of Nazianzus\", \"Nose hair\", \"Good fruit\", \"Head oil\", \"Fighting nest\", \"Remove the taste\", \"In the seventh heaven\", \"What the dog knows about flax\", \"Chickens count in autumn\", \"Red cow will not change skin\", \"Reading the gospel on the wolf's head\", \"Throwing pearls in front of pigs\", \"A donkey will come to the spring of a dead\", \"Fear of the River Marmade\", \"Go dead, let me love\", \"Water and water\", \"Finding a similarity\", \"One intelligent is good, two are better\", \"Better than never\", \"Looking between fingers\", \"The dog doesn't know the owner\", \"Getting older in a pillow\", \"Snow to your mind\", \"Sleeping in the donkey's ear\", \"Heating a snake in the Gulf\", \"Crucifying the donkey's forehead\", \"Cutting the mind thread\"]\n",
        "references = [[\"Bookworm\", \"To be cat's meow\", \"Skyrocketing price\", \"All hat and no cattle.\", \"A nitpicker\", \"A wolf in sheep's clothing.\", \"Play mind games\", \"Apples of discord\", \"To be a loose cannon\", \"In seventh heaven\", \"Not knowing the value of a good thing\", \"Don't count your chickens before they hatch\", \"A leopard cannot change its spots\", \"Preaching to deaf ears\", \"Cast pearls before swine\", \"Waiting for a pie in the sky\", \"Still waters run deep\", \"Fame after death\", \"Easy come, easy go\", \"Birds of a feather flock together\", \"Two heads are better than one\", \"Better late than never\", \"Going through the motions \", \"Turned upside down\", \"A long and happy marriage\", \"You have pulled a boner\", \"Moving at a snail's pace\", \"To nourish a viper in one's bosom\", \"Back the wrong horse\", \"Lose one's train of thought\"]]\n",
        "\n",
        "results = corpus_bleu(bing_candidates, references, tokenize='char')\n",
        "print(\"BLEU score:\", round(results.score, 1))\n",
        "print(\"BLEU counts: \", results.counts)\n",
        "print(\"BLEU totals: \", results.totals)\n",
        "print(\"BLEU precisions: \", results.precisions)\n",
        "print(\"BLEU brevity penalty: \", results.bp)\n",
        "print(\"System length: \", results.sys_len)\n",
        "print(\"Reference length: \", results.ref_len)\n"
      ],
      "metadata": {
        "colab": {
          "base_uri": "https://localhost:8080/"
        },
        "id": "GbiDaNQN4eFv",
        "outputId": "ca1039ca-90e3-4f67-ecd0-376b4abe0334"
      },
      "execution_count": null,
      "outputs": [
        {
          "output_type": "stream",
          "name": "stdout",
          "text": [
            "BLEU score: 18.5\n",
            "BLEU counts:  [312, 112, 65, 44]\n",
            "BLEU totals:  [575, 545, 515, 485]\n",
            "BLEU precisions:  [54.26086956521739, 20.55045871559633, 12.62135922330097, 9.072164948453608]\n",
            "BLEU brevity penalty:  0.9776449656606773\n",
            "System length:  575\n",
            "Reference length:  588\n"
          ]
        }
      ]
    },
    {
      "cell_type": "markdown",
      "source": [
        "***One Sample t-Test* to determine the statistical significance between the results of the three systems.**"
      ],
      "metadata": {
        "id": "4jAHUR05Wd-0"
      }
    },
    {
      "cell_type": "code",
      "source": [
        "import numpy as np\n",
        "import scipy.stats as stats\n",
        "\n",
        "bleu_score1 = 24.3\n",
        "bleu_score2 = 18.1\n",
        "bleu_score3 = 18.5\n",
        "sample_size = 30\n",
        "\n",
        "bleu_difference_1_2 = bleu_score1 - bleu_score2\n",
        "mean_difference_1_2 = bleu_difference_1_2 / sample_size\n",
        "sample_1_2 = np.random.normal(loc=mean_difference_1_2, scale=1, size=sample_size)\n",
        "t_statistic_1_2, p_value_1_2 = stats.ttest_1samp(sample_1_2, 0)\n",
        "\n",
        "bleu_difference_1_3 = bleu_score1 - bleu_score3\n",
        "mean_difference_1_3 = bleu_difference_1_3 / sample_size\n",
        "sample_1_3 = np.random.normal(loc=mean_difference_1_3, scale=1, size=sample_size)\n",
        "t_statistic_1_3, p_value_1_3 = stats.ttest_1samp(sample_1_3, 0)\n",
        "\n",
        "bleu_difference_2_3 = bleu_score2 - bleu_score3\n",
        "mean_difference_2_3 = bleu_difference_2_3 / sample_size\n",
        "sample_2_3 = np.random.normal(loc=mean_difference_2_3, scale=1, size=sample_size)\n",
        "t_statistic_2_3, p_value_2_3 = stats.ttest_1samp(sample_2_3, 0)\n",
        "\n",
        "if p_value_1_2 < 0.05:\n",
        "    print(\"The difference between System 1 and System 2 is statistically significant, with a p-value of\", p_value_1_2)\n",
        "else:\n",
        "    print(\"The difference between System 1 and System 2 is not statistically significant, with a p-value of\", p_value_1_2)\n",
        "\n",
        "if p_value_1_3 < 0.05:\n",
        "    print(\"The difference between System 1 and System 3 is statistically significant, with a p-value of\", p_value_1_3)\n",
        "else:\n",
        "    print(\"The difference between System 1 and System 3 is not statistically significant, with a p-value of\", p_value_1_3)\n",
        "\n",
        "if p_value_2_3 < 0.05:\n",
        "    print(\"The difference between System 2 and System 3 is statistically significant, with a p-value of\", p_value_2_3)\n",
        "else:\n",
        "    print(\"The difference between System 2 and System 3 is not statistically significant, with a p-value of\", p_value_2_3)\n"
      ],
      "metadata": {
        "colab": {
          "base_uri": "https://localhost:8080/"
        },
        "id": "rTy1IvfRSJs1",
        "outputId": "b0606105-5597-45d0-b104-8e94ca564822"
      },
      "execution_count": 106,
      "outputs": [
        {
          "output_type": "stream",
          "name": "stdout",
          "text": [
            "The difference between System 1 and System 2 is statistically significant, with a p-value of 0.0001009747742065383\n",
            "The difference between System 1 and System 3 is not statistically significant, with a p-value of 0.211753844201925\n",
            "The difference between System 2 and System 3 is not statistically significant, with a p-value of 0.9751872526698897\n"
          ]
        }
      ]
    },
    {
      "cell_type": "markdown",
      "source": [
        "**Pearson correlation coefficient between human and automatic evaluation data.** "
      ],
      "metadata": {
        "id": "3IdcmPd-mMQI"
      }
    },
    {
      "cell_type": "code",
      "source": [
        "import numpy as np\n",
        "import pandas as pd\n",
        "from scipy.stats import pearsonr\n",
        "\n",
        "# Define the data\n",
        "accuracy_1 = [8, 19, 33]\n",
        "intelligibility_1 = [36, 14, 10]\n",
        "bleu_1 = 24.3\n",
        "\n",
        "accuracy_2 = [8, 10, 42]\n",
        "intelligibility_2 = [23, 9, 28]\n",
        "bleu_2 = 18.1\n",
        "\n",
        "accuracy_3 = [5, 14, 41]\n",
        "intelligibility_3 = [21, 19, 20]\n",
        "bleu_3 = 18.5\n",
        "\n",
        "# Combine the data into a single dataframe\n",
        "data = {'Accuracy': accuracy_1 + accuracy_2 + accuracy_3,\n",
        "        'Intelligibility': intelligibility_1 + intelligibility_2 + intelligibility_3,\n",
        "        'BLEU': [bleu_1, bleu_2, bleu_3] * 3}\n",
        "\n",
        "df = pd.DataFrame(data)\n",
        "\n",
        "# Calculate the correlation between each pair of variables\n",
        "correlation_matrix = np.corrcoef(df.T)\n",
        "print(correlation_matrix)\n"
      ],
      "metadata": {
        "colab": {
          "base_uri": "https://localhost:8080/"
        },
        "id": "BdaVrOQ0d_9R",
        "outputId": "158df768-1e30-4e7a-e610-685c7855d523"
      },
      "execution_count": 108,
      "outputs": [
        {
          "output_type": "stream",
          "name": "stdout",
          "text": [
            "[[ 1.         -0.07406267 -0.61812245]\n",
            " [-0.07406267  1.          0.59776871]\n",
            " [-0.61812245  0.59776871  1.        ]]\n"
          ]
        }
      ]
    },
    {
      "cell_type": "markdown",
      "source": [
        "**Correlation Matrix Visualization**"
      ],
      "metadata": {
        "id": "wEq1VvR2pcm3"
      }
    },
    {
      "cell_type": "code",
      "source": [
        "import matplotlib.pyplot as plt\n",
        "import numpy as np\n",
        "\n",
        "corr = np.array([[ 1.0,         -0.07406267, -0.61812245],\n",
        " [-0.07406267,  1.0,          0.59776871],\n",
        " [-0.61812245,  0.59776871,  1.0,        ]])\n",
        "\n",
        "fig, ax = plt.subplots()\n",
        "im = ax.imshow(corr)\n",
        "\n",
        "ax.set_xticks(np.arange(len(corr)))\n",
        "ax.set_yticks(np.arange(len(corr)))\n",
        "\n",
        "ax.set_xticklabels(['Accuracy', 'Intelligibility', 'BLEU'])\n",
        "ax.set_yticklabels(['Accuracy', 'Intelligibility', 'BLEU'])\n",
        "\n",
        "plt.setp(ax.get_xticklabels(), rotation=45, ha=\"right\",\n",
        "         rotation_mode=\"anchor\")\n",
        "\n",
        "for i in range(len(corr)):\n",
        "    for j in range(len(corr)):\n",
        "        text = ax.text(j, i, '{:0.2f}'.format(corr[i, j]),\n",
        "                       ha=\"center\", va=\"center\", color=\"w\")\n",
        "\n",
        "ax.set_title(\"Correlation Matrix\")\n",
        "fig.tight_layout()\n",
        "plt.show()\n"
      ],
      "metadata": {
        "colab": {
          "base_uri": "https://localhost:8080/",
          "height": 297
        },
        "id": "v7uc9CmEmueS",
        "outputId": "c59d521b-ebf2-4d6d-980a-80356b6f6b74"
      },
      "execution_count": 119,
      "outputs": [
        {
          "output_type": "display_data",
          "data": {
            "text/plain": [
              "<Figure size 432x288 with 1 Axes>"
            ],
            "image/png": "[encoded data removed]"
          },
          "metadata": {
            "needs_background": "light"
          }
        }
      ]
    }
  ]
}